{
  "nbformat": 4,
  "nbformat_minor": 0,
  "metadata": {
    "colab": {
      "provenance": []
    },
    "kernelspec": {
      "name": "python3",
      "display_name": "Python 3"
    },
    "language_info": {
      "name": "python"
    }
  },
  "cells": [
    {
      "cell_type": "code",
      "execution_count": 15,
      "metadata": {
        "id": "lRMw36LW-FTO"
      },
      "outputs": [],
      "source": [
        "arr=[3,4,6,2,3,5]"
      ]
    },
    {
      "cell_type": "code",
      "source": [
        "[i for i in range(19,-1,-1)]"
      ],
      "metadata": {
        "colab": {
          "base_uri": "https://localhost:8080/"
        },
        "id": "7pzzOkbM-Jtp",
        "outputId": "064c620c-8e8e-4abc-85b1-1201d5a6bcf0"
      },
      "execution_count": 11,
      "outputs": [
        {
          "output_type": "execute_result",
          "data": {
            "text/plain": [
              "[19, 18, 17, 16, 15, 14, 13, 12, 11, 10, 9, 8, 7, 6, 5, 4, 3, 2, 1, 0]"
            ]
          },
          "metadata": {},
          "execution_count": 11
        }
      ]
    },
    {
      "cell_type": "code",
      "source": [
        "def BubbleSort(arr):\n",
        "  n=len(arr)\n",
        "  for i in range(n-1,-1,-1):\n",
        "    for j in range(0,i):\n",
        "      if arr[j]>arr[j+1]:\n",
        "        temp=arr[j+1]\n",
        "        arr[j+1]=arr[j]\n",
        "        arr[j]=temp\n",
        "  return arr"
      ],
      "metadata": {
        "id": "O5LNHyH_-Knl"
      },
      "execution_count": 13,
      "outputs": []
    },
    {
      "cell_type": "code",
      "source": [
        "BubbleSort(arr)"
      ],
      "metadata": {
        "colab": {
          "base_uri": "https://localhost:8080/"
        },
        "id": "vn4m_owO-0hC",
        "outputId": "6ad78c9c-f3ef-4a8b-bde6-26b4781b32bf"
      },
      "execution_count": 16,
      "outputs": [
        {
          "output_type": "execute_result",
          "data": {
            "text/plain": [
              "[2, 3, 3, 4, 5, 6]"
            ]
          },
          "metadata": {},
          "execution_count": 16
        }
      ]
    },
    {
      "cell_type": "code",
      "source": [],
      "metadata": {
        "id": "6k8eV6vT_Pvl"
      },
      "execution_count": null,
      "outputs": []
    }
  ]
}