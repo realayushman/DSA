{
  "cells": [
    {
      "cell_type": "code",
      "execution_count": null,
      "metadata": {
        "id": "iqO7NUZdkrb-"
      },
      "outputs": [],
      "source": [
        "import array"
      ]
    },
    {
      "cell_type": "code",
      "execution_count": null,
      "metadata": {
        "colab": {
          "background_save": true
        },
        "id": "XBgW4QaB3VI_"
      },
      "outputs": [],
      "source": [
        "arr=array.array(\"i\",[1,4,6,1,7,9,0,2,3])"
      ]
    },
    {
      "cell_type": "code",
      "execution_count": null,
      "metadata": {
        "colab": {
          "background_save": true,
          "base_uri": "https://localhost:8080/"
        },
        "id": "652fKfn630hK",
        "outputId": "dd5c4e48-1cc9-4e34-fd97-9da7cba118c1"
      },
      "outputs": [
        {
          "data": {
            "text/plain": [
              "9"
            ]
          },
          "execution_count": 42,
          "metadata": {},
          "output_type": "execute_result"
        }
      ],
      "source": [
        "len(arr)"
      ]
    },
    {
      "cell_type": "code",
      "execution_count": null,
      "metadata": {
        "colab": {
          "background_save": true
        },
        "id": "DgreP7xjlIm-"
      },
      "outputs": [],
      "source": [
        "def selection_sort(arr):\n",
        "  n=len(arr)\n",
        "  for i in range(n-2):\n",
        "    min=i\n",
        "    for j in range(i,n-1):\n",
        "      if arr[j]<arr[i]:\n",
        "        min=j\n",
        "  swap(arr,i,min)\n",
        "def swap(arr,i,j):\n",
        "  temp=arr[i]\n",
        "  arr[i]=arr[j]\n",
        "  arr[j]=temp"
      ]
    },
    {
      "cell_type": "code",
      "execution_count": null,
      "metadata": {
        "colab": {
          "background_save": true
        },
        "id": "mpTPoAl04zOI"
      },
      "outputs": [],
      "source": [
        "selection_sort(arr)"
      ]
    },
    {
      "cell_type": "code",
      "execution_count": null,
      "metadata": {
        "colab": {
          "background_save": true
        },
        "id": "uNiVu2Ip46sG"
      },
      "outputs": [],
      "source": [
        "#swap(arr,3,5)"
      ]
    },
    {
      "cell_type": "code",
      "execution_count": null,
      "metadata": {
        "colab": {
          "background_save": true,
          "base_uri": "https://localhost:8080/"
        },
        "id": "pn5YQjyb5KIy",
        "outputId": "f634e166-b97e-42f0-f2f6-4a959d6bb417"
      },
      "outputs": [
        {
          "data": {
            "text/plain": [
              "array('i', [1, 4, 6, 1, 7, 9, 0, 2, 3])"
            ]
          },
          "execution_count": 46,
          "metadata": {},
          "output_type": "execute_result"
        }
      ],
      "source": [
        "arr"
      ]
    },
    {
      "cell_type": "code",
      "execution_count": null,
      "metadata": {
        "colab": {
          "background_save": true,
          "base_uri": "https://localhost:8080/"
        },
        "id": "wNJj6Tql5LeS",
        "outputId": "ce4ec158-8c14-4294-dcc0-827ff04627b0"
      },
      "outputs": [
        {
          "data": {
            "text/plain": [
              "(1, 4, 6, 1, 7, 9, 0, 2, 3)"
            ]
          },
          "execution_count": 47,
          "metadata": {},
          "output_type": "execute_result"
        }
      ],
      "source": [
        "1,4,6,1,7,9,0,2,3\n",
        "\n"
      ]
    }
  ],
  "metadata": {
    "colab": {
      "provenance": []
    },
    "kernelspec": {
      "display_name": "Python 3",
      "name": "python3"
    },
    "language_info": {
      "name": "python"
    }
  },
  "nbformat": 4,
  "nbformat_minor": 0
}