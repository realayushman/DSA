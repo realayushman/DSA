{
  "nbformat": 4,
  "nbformat_minor": 0,
  "metadata": {
    "colab": {
      "provenance": []
    },
    "kernelspec": {
      "name": "python3",
      "display_name": "Python 3"
    },
    "language_info": {
      "name": "python"
    }
  },
  "cells": [
    {
      "cell_type": "code",
      "source": [
        "arr=[5, 2, 4, 66, 7, 8, 2]"
      ],
      "metadata": {
        "id": "gG54MXg32YFX"
      },
      "execution_count": 1,
      "outputs": []
    },
    {
      "cell_type": "code",
      "source": [
        "[5, 2, 4, 66, 7, 8, 2]\n",
        "[2,5, 4, 66, 7, 8, 2]\n",
        "[2,4,5, 66, 7, 8, 2]\n",
        "[2,4,5, 66, 7, 8, 2]\n",
        "[2,4,5, 7, 66, 8, 2]\n",
        "[2,4,5, 7, 66, 8, 2]\n",
        "[2,4,5, 66, 7, 8, 2]\n",
        "[2,4,5, 66, 7, 8, 2]\n"
      ],
      "metadata": {
        "id": "eGe5oWVm4UYE"
      },
      "execution_count": null,
      "outputs": []
    },
    {
      "cell_type": "code",
      "execution_count": 8,
      "metadata": {
        "id": "_ij53WZrUo8A"
      },
      "outputs": [],
      "source": [
        "def InsertionSort(arr):\n",
        "  for i in range(len(arr)):\n",
        "    j=i\n",
        "    while j>0 and (arr[j-1]>arr[j]):\n",
        "      temp=arr[j]\n",
        "      arr[j]=arr[j-1]\n",
        "      arr[j-1]=temp\n",
        "      j=j-1\n",
        "  return arr"
      ]
    },
    {
      "cell_type": "code",
      "source": [
        "InsertionSort(arr)"
      ],
      "metadata": {
        "colab": {
          "base_uri": "https://localhost:8080/"
        },
        "id": "JbOwOeyx3gmP",
        "outputId": "5a176d5e-ec8c-481c-8625-9bc7015e64bb"
      },
      "execution_count": 9,
      "outputs": [
        {
          "output_type": "execute_result",
          "data": {
            "text/plain": [
              "[2, 2, 4, 5, 7, 8, 66]"
            ]
          },
          "metadata": {},
          "execution_count": 9
        }
      ]
    },
    {
      "cell_type": "code",
      "source": [],
      "metadata": {
        "id": "pVjki1mV5m13"
      },
      "execution_count": null,
      "outputs": []
    }
  ]
}